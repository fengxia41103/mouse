{
 "cells": [
  {
   "cell_type": "code",
   "execution_count": null,
   "id": "significant-cotton",
   "metadata": {},
   "outputs": [],
   "source": [
    "from CRNN_functions.Prepare_data import *\n",
    "from CRNN_functions.CRNN import *"
   ]
  },
  {
   "cell_type": "code",
   "execution_count": null,
   "id": "compound-checklist",
   "metadata": {},
   "outputs": [],
   "source": [
    "# preprocessing data\n",
    "labels = get_label(\"../../Grooming_data/C1_Groom.csv\")\n",
    "    \n",
    "all_video = get_video_data('../../video/C1_2min_black.mp4')\n",
    "    \n",
    "train_x, train_y = prepare_data(all_video, labels, sample_size = 2000)\n",
    "test_x, test_y = prepare_data(all_video, labels, sample_size = 200)"
   ]
  },
  {
   "cell_type": "code",
   "execution_count": null,
   "id": "dress-waters",
   "metadata": {},
   "outputs": [],
   "source": [
    "SIZE = train_x[0][0].shape\n",
    "CHANNELS = 1\n",
    "NBFRAME = 20\n",
    "BS = 10\n",
    "classes = [0,1]\n",
    "\n",
    "INSHAPE=(NBFRAME,) + SIZE + (CHANNELS,) # (5, 112, 112, 3)\n",
    "model = action_model(INSHAPE, len(classes))\n",
    "optimizer = tf.keras.optimizers.Adam(0.001)\n",
    "    model.compile(\n",
    "    optimizer,\n",
    "    'categorical_crossentropy',\n",
    "    metrics=['acc']\n",
    ")\n",
    "    \n",
    "    \n",
    "EPOCHS=500\n",
    "    # # create a \"chkp\" directory before to run that\n",
    "    # # because ModelCheckpoint will write models inside\n",
    "callbacks = [\n",
    "    keras.callbacks.ReduceLROnPlateau(verbose=1),\n",
    "    keras.callbacks.ModelCheckpoint(\n",
    "        'weights.{epoch:02d}-{val_loss:.2f}.h5',\n",
    "    verbose=1),]\n",
    "\n",
    "model.fit_generator(\n",
    "    train_x, train_y,\n",
    "    validation_data=(test_x, test_y)\n",
    "    verbose=1,\n",
    "    epochs=EPOCHS,\n",
    "    callbacks=callbacks\n",
    ")"
   ]
  }
 ],
 "metadata": {
  "kernelspec": {
   "display_name": "tf",
   "language": "python",
   "name": "tf"
  },
  "language_info": {
   "codemirror_mode": {
    "name": "ipython",
    "version": 3
   },
   "file_extension": ".py",
   "mimetype": "text/x-python",
   "name": "python",
   "nbconvert_exporter": "python",
   "pygments_lexer": "ipython3",
   "version": "3.7.4"
  }
 },
 "nbformat": 4,
 "nbformat_minor": 5
}
